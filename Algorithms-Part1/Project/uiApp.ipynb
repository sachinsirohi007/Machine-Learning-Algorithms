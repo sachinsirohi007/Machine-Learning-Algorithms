{
  "nbformat": 4,
  "nbformat_minor": 0,
  "metadata": {
    "anaconda-cloud": {},
    "kernelspec": {
      "display_name": "Python 3",
      "language": "python",
      "name": "python3"
    },
    "language_info": {
      "codemirror_mode": {
        "name": "ipython",
        "version": 3
      },
      "file_extension": ".py",
      "mimetype": "text/x-python",
      "name": "python",
      "nbconvert_exporter": "python",
      "pygments_lexer": "ipython3",
      "version": "3.6.6"
    },
    "colab": {
      "name": "uiApp.ipynb",
      "provenance": [],
      "toc_visible": true
    }
  },
  "cells": [
    {
      "cell_type": "code",
      "metadata": {
        "id": "GdDfckmzVPvv",
        "colab_type": "code",
        "colab": {}
      },
      "source": [
        "%%sh\n",
        "pip install -q dash\n",
        "pip install -q dash_core_components\n",
        "pip install -q dash_html_components\n",
        "pip install -q dash_table"
      ],
      "execution_count": 0,
      "outputs": []
    },
    {
      "cell_type": "code",
      "metadata": {
        "id": "aJ4JMi4XVje_",
        "colab_type": "code",
        "outputId": "b6249bc1-2b76-4ac4-f3b1-2be71d6fe2b2",
        "colab": {
          "base_uri": "https://localhost:8080/",
          "height": 101
        }
      },
      "source": [
        "%%sh\n",
        "# get ngrok\n",
        "curl -O https://bin.equinox.io/c/4VmDzA7iaHb/ngrok-stable-linux-amd64.zip\n",
        "unzip ngrok-stable-linux-amd64.zip"
      ],
      "execution_count": 0,
      "outputs": [
        {
          "output_type": "stream",
          "text": [
            "Archive:  ngrok-stable-linux-amd64.zip\n",
            "  inflating: ngrok                   \n"
          ],
          "name": "stdout"
        },
        {
          "output_type": "stream",
          "text": [
            "  % Total    % Received % Xferd  Average Speed   Time    Time     Time  Current\n",
            "                                 Dload  Upload   Total   Spent    Left  Speed\n",
            "\r  0     0    0     0    0     0      0      0 --:--:-- --:--:-- --:--:--     0\r100 13.1M  100 13.1M    0     0  37.6M      0 --:--:-- --:--:-- --:--:-- 37.6M\n"
          ],
          "name": "stderr"
        }
      ]
    },
    {
      "cell_type": "code",
      "metadata": {
        "id": "1u2DAOM_Z-h-",
        "colab_type": "code",
        "colab": {
          "base_uri": "https://localhost:8080/",
          "height": 34
        },
        "outputId": "4900b494-b4b6-472e-e935-22157cb9d249"
      },
      "source": [
        "import pandas as pd\n",
        "from sklearn import tree\n",
        "from sklearn.model_selection import train_test_split\n",
        "from sklearn.externals import joblib\n",
        "data = pd.read_csv('https://raw.githubusercontent.com/sachinsirohi007/Machine-Learning-Algorithms/master/Algorithms-Part1/Project/diabetes.csv', sep=',')\n",
        "X = data.values\n",
        "y = data['Outcome'].values\n",
        "X_train, X_test, y_train, y_test = train_test_split(X, y ,test_size=0.30)\n",
        "DecisionTree = tree.DecisionTreeClassifier(max_depth=10)\n",
        "DecisionTree.fit(X_train, y_train)\n",
        "joblib.dump(DecisionTree, 'classifier.pkl')\n"
      ],
      "execution_count": 2,
      "outputs": [
        {
          "output_type": "execute_result",
          "data": {
            "text/plain": [
              "['classifier.pkl']"
            ]
          },
          "metadata": {
            "tags": []
          },
          "execution_count": 2
        }
      ]
    },
    {
      "cell_type": "code",
      "metadata": {
        "id": "rTom_Ob5MtXo",
        "colab_type": "code",
        "outputId": "39728d93-69de-4dec-b6c6-76a32924d484",
        "colab": {
          "base_uri": "https://localhost:8080/",
          "height": 34
        }
      },
      "source": [
        "%%writefile dash_app.py\n",
        "import dash\n",
        "import dash_core_components as dcc\n",
        "import dash_html_components as html\n",
        "from dash.dependencies import Input, Output\n",
        "from collections import Counter\n",
        "import unicodedata\n",
        "import pandas as pd\n",
        "from random import randint\n",
        "import threading\n",
        "import pandas as pd\n",
        "import os\n",
        "import base64\n",
        "from sklearn.externals import joblib\n",
        "\n",
        "app = dash.Dash()\n",
        "im1='https://images.vexels.com/media/users/3/145502/isolated/preview/9824e521b3d8c5e4f893b269cf6f9128-breast-cancer-ribbon-by-vexels.png'\n",
        "im2='https://encrypted-tbn0.gstatic.com/images?q=tbn:ANd9GcS4oO4Jb23asIfgGBx52Nb37qaXrDeH7WZ8BUkIcfgWYXTp08Cj'\n",
        "im3='https://images.vexels.com/media/users/3/145502/isolated/preview/9824e521b3d8c5e4f893b269cf6f9128-breast-cancer-ribbon-by-vexels.png'\n",
        "im4='https://upload.wikimedia.org/wikipedia/en/c/cd/Anaconda_Logo.png'\n",
        "im5='https://seeklogo.com/images/S/spyder-logo-68D7CF8B2C-seeklogo.com.png'\n",
        "im6='data:image/jpeg;base64,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'\n",
        "im7= 'https://upload.wikimedia.org/wikipedia/commons/thumb/3/37/Plotly-logo-01-square.png/220px-Plotly-logo-01-square.png'\n",
        "im8='https://cdn0.iconfinder.com/data/icons/trending-tech/94/artificial_intelligence-512.png'\n",
        "im9 ='https://cdn-images-1.medium.com/max/1200/1*lkqc68a6b7_TLALs5fmI6A.png'\n",
        "clf=joblib.load('classifier.pkl')\n",
        "\n",
        "        \n",
        "\n",
        "app.layout = html.Div([\n",
        "    html.H1(children=' Intilegent Diabetic Prediction System ', style={'marginBottom': '12px'}),\n",
        "    html.Div(children = [html.Img(src=im1,style={'width': '20%', 'marginLeft': 'auto', 'marginRight': 'auto'}),\n",
        "                         html.Img(src=im2,style={'width': '20%', 'marginLeft': 'auto', 'marginRight': 'auto'}),\n",
        "                         html.Img(src=im3,style={'width': '20%', 'marginLeft': 'auto', 'marginRight': 'auto'})]),\n",
        "    html.H2(\" Please observed Value  \",style={'marginBottom': '6px'}),\n",
        "    html.Div(children=[dcc.Input(id = 'Temperature',placeholder='  Pregnancies ',type='text',value=''),\n",
        "                       dcc.Input(id = 'Pressure',placeholder='  Glucose ',type='text',value=''),\n",
        "                       dcc.Input(id = 'Humidity',placeholder='  BloodPressure ',type='text',value=''),\n",
        "                       dcc.Input(id = 'Cloud',placeholder=' SkinThickness ',type='text',value=''),\n",
        "                       dcc.Input(id = 'Windspeed',placeholder='  Insulin ',type='text',value=''),\n",
        "                       dcc.Input(id = 'WindDirection',placeholder='  BMI',type='text',value=''),\n",
        "                       dcc.Input(id = 'DiabetesPedigreeFunction',placeholder='  DiabetesPedigreeFunction',type='text',value=''),\n",
        "                       dcc.Input(id = 'Age',placeholder='  Age ',type='text',value='')]),\n",
        "    \n",
        "    html.Button(id='submit-button', n_clicks=0, children='Sumit', \n",
        "    style={'marginTop': 15, 'marginBottom': 25}),\n",
        "    html.Div(id='my-div')], style={'textAlign': 'center'})\n",
        "\n",
        "app.css.append_css({\"external_url\": \"https://codepen.io/chriddyp/pen/bWLwgP.css\"})\n",
        "\n",
        "\n",
        "@app.callback(\n",
        "    Output(component_id='my-div', component_property='children'),\n",
        "    [Input(component_id='submit-button', component_property='n_clicks'),\n",
        "     Input(component_id='Temperature', component_property='value'),\n",
        "     Input(component_id='Pressure', component_property='value'),\n",
        "     Input(component_id='Humidity', component_property='value'),\n",
        "     Input(component_id='Cloud', component_property='value'),\n",
        "     Input(component_id='Windspeed', component_property='value'),\n",
        "     Input(component_id='WindDirection', component_property='value'),\n",
        "     Input(component_id='DiabetesPedigreeFunction', component_property='value'),\n",
        "     Input(component_id='Age', component_property='value')]\n",
        ")\n",
        "def update_output_div(n_clicks,x1,x2,x3,x4,x5,x6,x7,x8):\n",
        "    if n_clicks > 0:\n",
        "        val = []\n",
        "        val.append(x1)\n",
        "        val.append(x2)\n",
        "        val.append(x3)\n",
        "        val.append(x4)\n",
        "        val.append(x5)\n",
        "        val.append(x6)\n",
        "        val.append(x7)\n",
        "        val.append(x8)\n",
        "        val.append(x1)\n",
        "        out = clf.predict([val])[0]\n",
        "        if out ==1:\n",
        "            return html.H2(\"Diabetic Predicted\")\n",
        "        else:\n",
        "            return html.H2(\"Diabetic Not Predicted\")\n",
        "if __name__ == '__main__':\n",
        "    app.run_server()\n",
        "        "
      ],
      "execution_count": 0,
      "outputs": [
        {
          "output_type": "stream",
          "text": [
            "Overwriting dash_app.py\n"
          ],
          "name": "stdout"
        }
      ]
    },
    {
      "cell_type": "code",
      "metadata": {
        "id": "nDxaXBcbWAkp",
        "colab_type": "code",
        "colab": {}
      },
      "source": [
        "# launch ngrok\n",
        "get_ipython().system_raw('./ngrok http 8050 &')"
      ],
      "execution_count": 0,
      "outputs": []
    },
    {
      "cell_type": "code",
      "metadata": {
        "id": "u7vt1RaVWDjN",
        "colab_type": "code",
        "outputId": "e7928752-08ee-45a1-8465-3fecf07f16c6",
        "colab": {
          "base_uri": "https://localhost:8080/",
          "height": 34
        }
      },
      "source": [
        "%%sh\n",
        "# get url with ngrok\n",
        "curl -s http://localhost:4040/api/tunnels | python3 -c \"import sys, json; print(json.load(sys.stdin)['tunnels'][0]['public_url'])\""
      ],
      "execution_count": 0,
      "outputs": [
        {
          "output_type": "stream",
          "text": [
            "https://f931cfa2.ngrok.io\n"
          ],
          "name": "stdout"
        }
      ]
    },
    {
      "cell_type": "code",
      "metadata": {
        "id": "n8vHPjwjWHPW",
        "colab_type": "code",
        "outputId": "83efe0ab-6786-483e-ead0-99ed54c4d77c",
        "colab": {
          "base_uri": "https://localhost:8080/",
          "height": 541
        }
      },
      "source": [
        "!python dash_app.py"
      ],
      "execution_count": 0,
      "outputs": [
        {
          "output_type": "stream",
          "text": [
            "/usr/local/lib/python3.6/dist-packages/sklearn/externals/joblib/__init__.py:15: FutureWarning:\n",
            "\n",
            "sklearn.externals.joblib is deprecated in 0.21 and will be removed in 0.23. Please import this functionality directly from joblib, which can be installed with: pip install joblib. If this warning is raised when loading pickled models, you may need to re-serialize those models with scikit-learn 0.21+.\n",
            "\n",
            " * Serving Flask app \"dash_app\" (lazy loading)\n",
            " * Environment: production\n",
            "\u001b[31m   WARNING: This is a development server. Do not use it in a production deployment.\u001b[0m\n",
            "\u001b[2m   Use a production WSGI server instead.\u001b[0m\n",
            " * Debug mode: off\n",
            " * Running on http://127.0.0.1:8050/ (Press CTRL+C to quit)\n",
            "/usr/local/lib/python3.6/dist-packages/dash/resources.py:68: UserWarning:\n",
            "\n",
            "You have set your config to `serve_locally=True` but A local version of https://codepen.io/chriddyp/pen/bWLwgP.css is not available.\n",
            "If you added this file with `app.scripts.append_script` or `app.css.append_css`, use `external_scripts` or `external_stylesheets` instead.\n",
            "See https://dash.plot.com/external-resources\n",
            "\n",
            "127.0.0.1 - - [22/May/2020 17:09:34] \"\u001b[37mGET / HTTP/1.1\u001b[0m\" 200 -\n",
            "127.0.0.1 - - [22/May/2020 17:09:35] \"\u001b[37mGET /_dash-component-suites/dash_renderer/react@16.v1_4_1m1590167163.13.0.min.js HTTP/1.1\u001b[0m\" 200 -\n",
            "127.0.0.1 - - [22/May/2020 17:09:35] \"\u001b[37mGET /_dash-component-suites/dash_renderer/polyfill@7.v1_4_1m1590167163.8.7.min.js HTTP/1.1\u001b[0m\" 200 -\n",
            "127.0.0.1 - - [22/May/2020 17:09:35] \"\u001b[37mGET /_dash-component-suites/dash_renderer/react-dom@16.v1_4_1m1590167163.13.0.min.js HTTP/1.1\u001b[0m\" 200 -\n",
            "127.0.0.1 - - [22/May/2020 17:09:35] \"\u001b[37mGET /_dash-component-suites/dash_renderer/prop-types@15.v1_4_1m1590167163.7.2.min.js HTTP/1.1\u001b[0m\" 200 -\n",
            "127.0.0.1 - - [22/May/2020 17:09:35] \"\u001b[37mGET /_dash-component-suites/dash_html_components/dash_html_components.v1_0_3m1590167165.min.js HTTP/1.1\u001b[0m\" 200 -\n",
            "127.0.0.1 - - [22/May/2020 17:09:35] \"\u001b[37mGET /_dash-component-suites/dash_core_components/dash_core_components.v1_10_0m1590167164.min.js HTTP/1.1\u001b[0m\" 200 -\n",
            "127.0.0.1 - - [22/May/2020 17:09:35] \"\u001b[37mGET /_dash-component-suites/dash_core_components/dash_core_components-shared.v1_10_0m1590167164.js HTTP/1.1\u001b[0m\" 200 -\n",
            "127.0.0.1 - - [22/May/2020 17:09:35] \"\u001b[37mGET /_dash-component-suites/dash_renderer/dash_renderer.v1_4_1m1590167163.min.js HTTP/1.1\u001b[0m\" 200 -\n",
            "127.0.0.1 - - [22/May/2020 17:09:36] \"\u001b[37mGET /_dash-layout HTTP/1.1\u001b[0m\" 200 -\n",
            "127.0.0.1 - - [22/May/2020 17:09:36] \"\u001b[37mGET /_dash-dependencies HTTP/1.1\u001b[0m\" 200 -\n",
            "127.0.0.1 - - [22/May/2020 17:09:36] \"\u001b[37mGET /_favicon.ico?v=1.12.0 HTTP/1.1\u001b[0m\" 200 -\n",
            "127.0.0.1 - - [22/May/2020 17:09:37] \"\u001b[37mPOST /_dash-update-component HTTP/1.1\u001b[0m\" 200 -\n",
            "^C\n"
          ],
          "name": "stdout"
        }
      ]
    },
    {
      "cell_type": "code",
      "metadata": {
        "id": "D53VK7BiWbvO",
        "colab_type": "code",
        "colab": {}
      },
      "source": [
        ""
      ],
      "execution_count": 0,
      "outputs": []
    }
  ]
}