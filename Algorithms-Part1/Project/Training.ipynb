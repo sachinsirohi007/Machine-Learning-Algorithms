{
  "nbformat": 4,
  "nbformat_minor": 0,
  "metadata": {
    "anaconda-cloud": {},
    "kernelspec": {
      "display_name": "Python 3",
      "language": "python",
      "name": "python3"
    },
    "language_info": {
      "codemirror_mode": {
        "name": "ipython",
        "version": 3
      },
      "file_extension": ".py",
      "mimetype": "text/x-python",
      "name": "python",
      "nbconvert_exporter": "python",
      "pygments_lexer": "ipython3",
      "version": "3.6.6"
    },
    "colab": {
      "name": "Training.ipynb",
      "provenance": [],
      "toc_visible": true
    }
  },
  "cells": [
    {
      "cell_type": "code",
      "metadata": {
        "id": "rTom_Ob5MtXo",
        "colab_type": "code",
        "colab": {
          "base_uri": "https://localhost:8080/",
          "height": 104
        },
        "outputId": "ae98b78a-b1e2-408d-ddd0-cc1e56506c18"
      },
      "source": [
        "import pandas as pd\n",
        "import numpy as np\n",
        "import sklearn.ensemble as ske\n",
        "from sklearn import tree\n",
        "from sklearn.model_selection import train_test_split\n",
        "from sklearn.externals import joblib\n",
        "from sklearn.naive_bayes import GaussianNB\n",
        "from sklearn.metrics import confusion_matrix,f1_score\n",
        "import matplotlib.pyplot as plt\n",
        "from sklearn.neighbors import KNeighborsClassifier\n",
        "from sklearn import svm\n",
        "from sklearn.linear_model import LogisticRegression\n",
        "import seaborn as sns"
      ],
      "execution_count": 1,
      "outputs": [
        {
          "output_type": "stream",
          "text": [
            "/usr/local/lib/python3.6/dist-packages/sklearn/externals/joblib/__init__.py:15: FutureWarning: sklearn.externals.joblib is deprecated in 0.21 and will be removed in 0.23. Please import this functionality directly from joblib, which can be installed with: pip install joblib. If this warning is raised when loading pickled models, you may need to re-serialize those models with scikit-learn 0.21+.\n",
            "  warnings.warn(msg, category=FutureWarning)\n",
            "/usr/local/lib/python3.6/dist-packages/statsmodels/tools/_testing.py:19: FutureWarning: pandas.util.testing is deprecated. Use the functions in the public API at pandas.testing instead.\n",
            "  import pandas.util.testing as tm\n"
          ],
          "name": "stderr"
        }
      ]
    },
    {
      "cell_type": "code",
      "metadata": {
        "id": "cNj2Imv9RvJV",
        "colab_type": "code",
        "colab": {
          "base_uri": "https://localhost:8080/",
          "height": 235
        },
        "outputId": "5e0dbadc-740d-45dc-fc95-3d42ebdc491c"
      },
      "source": [
        "data = pd.read_csv('diabetes.csv', sep=',')\n",
        "print(data.head(10))\n",
        "X = data.values\n",
        "y = data['Outcome'].values"
      ],
      "execution_count": 2,
      "outputs": [
        {
          "output_type": "stream",
          "text": [
            "   Pregnancies  Glucose  BloodPressure  ...  DiabetesPedigreeFunction  Age  Outcome\n",
            "0            6      148             72  ...                     0.627   50        1\n",
            "1            1       85             66  ...                     0.351   31        0\n",
            "2            8      183             64  ...                     0.672   32        1\n",
            "3            1       89             66  ...                     0.167   21        0\n",
            "4            0      137             40  ...                     2.288   33        1\n",
            "5            5      116             74  ...                     0.201   30        0\n",
            "6            3       78             50  ...                     0.248   26        1\n",
            "7           10      115              0  ...                     0.134   29        0\n",
            "8            2      197             70  ...                     0.158   53        1\n",
            "9            8      125             96  ...                     0.232   54        1\n",
            "\n",
            "[10 rows x 9 columns]\n"
          ],
          "name": "stdout"
        }
      ]
    },
    {
      "cell_type": "markdown",
      "metadata": {
        "id": "qdYTOrG3SDgU",
        "colab_type": "text"
      },
      "source": [
        "Test Train Split"
      ]
    },
    {
      "cell_type": "code",
      "metadata": {
        "id": "dFgU7P2LRz2C",
        "colab_type": "code",
        "colab": {}
      },
      "source": [
        "X_train, X_test, y_train, y_test = train_test_split(X, y ,test_size=0.30)"
      ],
      "execution_count": 0,
      "outputs": []
    },
    {
      "cell_type": "markdown",
      "metadata": {
        "id": "lJ2MkMozSN2a",
        "colab_type": "text"
      },
      "source": [
        "Decision Tree"
      ]
    },
    {
      "cell_type": "code",
      "metadata": {
        "id": "ga3M8VrKSFrP",
        "colab_type": "code",
        "colab": {}
      },
      "source": [
        "DecisionTree = tree.DecisionTreeClassifier(max_depth=10)"
      ],
      "execution_count": 0,
      "outputs": []
    },
    {
      "cell_type": "code",
      "metadata": {
        "id": "25eULIqfSPch",
        "colab_type": "code",
        "colab": {
          "base_uri": "https://localhost:8080/",
          "height": 118
        },
        "outputId": "9cf3637d-8607-408b-fe60-7e625934e995"
      },
      "source": [
        "DecisionTree.fit(X_train, y_train)\n",
        "score = DecisionTree.score(X_test, y_test)\n",
        "print(\"Accuracy : %f %%\" % (score*100))\n",
        "res = DecisionTree.predict(X_test)\n",
        "mt = confusion_matrix(y_test, res)\n",
        "print(\"Confusion Matrix\")\n",
        "print(mt)\n",
        "print(\"False positive rate : %f %%\" % ((mt[0][1] / float(sum(mt[0])))*100))\n",
        "print('False negative rate : %f %%' % ( (mt[1][0] / float(sum(mt[1]))*100)))"
      ],
      "execution_count": 8,
      "outputs": [
        {
          "output_type": "stream",
          "text": [
            "Accuracy : 100.000000 %\n",
            "Confusion Matrix\n",
            "[[153   0]\n",
            " [  0  78]]\n",
            "False positive rate : 0.000000 %\n",
            "False negative rate : 0.000000 %\n"
          ],
          "name": "stdout"
        }
      ]
    },
    {
      "cell_type": "markdown",
      "metadata": {
        "id": "WOm6Yb7nSzrv",
        "colab_type": "text"
      },
      "source": [
        "Support Vector Machine"
      ]
    },
    {
      "cell_type": "code",
      "metadata": {
        "id": "KIYIUOo3Shjg",
        "colab_type": "code",
        "colab": {}
      },
      "source": [
        "SVM= svm.SVC()"
      ],
      "execution_count": 0,
      "outputs": []
    },
    {
      "cell_type": "code",
      "metadata": {
        "id": "bBb7F3J5S_yY",
        "colab_type": "code",
        "colab": {
          "base_uri": "https://localhost:8080/",
          "height": 118
        },
        "outputId": "6cb4d625-fdf0-4ffd-83c8-d260e11e062b"
      },
      "source": [
        "SVM.fit(X_train, y_train)\n",
        "score = SVM.score(X_test, y_test)\n",
        "print(\"%f %%\" % (score*100))\n",
        "res = SVM.predict(X_test)\n",
        "mt = confusion_matrix(y_test, res)\n",
        "print(\"Confusion Matrix\")\n",
        "print(mt)\n",
        "print(\"False positive rate : %f %%\" % ((mt[0][1] / float(sum(mt[0])))*100))\n",
        "print('False negative rate : %f %%' % ( (mt[1][0] / float(sum(mt[1]))*100)))"
      ],
      "execution_count": 10,
      "outputs": [
        {
          "output_type": "stream",
          "text": [
            "78.354978 %\n",
            "Confusion Matrix\n",
            "[[142  11]\n",
            " [ 39  39]]\n",
            "False positive rate : 7.189542 %\n",
            "False negative rate : 50.000000 %\n"
          ],
          "name": "stdout"
        }
      ]
    },
    {
      "cell_type": "markdown",
      "metadata": {
        "id": "zYNErDI_TFgL",
        "colab_type": "text"
      },
      "source": [
        "Logistic Regression"
      ]
    },
    {
      "cell_type": "code",
      "metadata": {
        "id": "jmTD0cj4TJmd",
        "colab_type": "code",
        "colab": {}
      },
      "source": [
        "LOGISTIC =  LogisticRegression()"
      ],
      "execution_count": 0,
      "outputs": []
    },
    {
      "cell_type": "code",
      "metadata": {
        "id": "csjZgawtTPJU",
        "colab_type": "code",
        "colab": {
          "base_uri": "https://localhost:8080/",
          "height": 272
        },
        "outputId": "01bf7f14-f7c8-4ea0-88b4-ac08e00e22bc"
      },
      "source": [
        "LOGISTIC.fit(X_train, y_train)\n",
        "score = LOGISTIC.score(X_test, y_test)\n",
        "print(\"%f %%\" % (score*100))\n",
        "res = LOGISTIC.predict(X_test)\n",
        "mt = confusion_matrix(y_test, res)\n",
        "print(\"Confusion Matrix\")\n",
        "print(mt)\n",
        "print(\"False positive rate : %f %%\" % ((mt[0][1] / float(sum(mt[0])))*100))\n",
        "print('False negative rate : %f %%' % ( (mt[1][0] / float(sum(mt[1]))*100)))"
      ],
      "execution_count": 12,
      "outputs": [
        {
          "output_type": "stream",
          "text": [
            "100.000000 %\n",
            "Confusion Matrix\n",
            "[[153   0]\n",
            " [  0  78]]\n",
            "False positive rate : 0.000000 %\n",
            "False negative rate : 0.000000 %\n"
          ],
          "name": "stdout"
        },
        {
          "output_type": "stream",
          "text": [
            "/usr/local/lib/python3.6/dist-packages/sklearn/linear_model/_logistic.py:940: ConvergenceWarning: lbfgs failed to converge (status=1):\n",
            "STOP: TOTAL NO. of ITERATIONS REACHED LIMIT.\n",
            "\n",
            "Increase the number of iterations (max_iter) or scale the data as shown in:\n",
            "    https://scikit-learn.org/stable/modules/preprocessing.html\n",
            "Please also refer to the documentation for alternative solver options:\n",
            "    https://scikit-learn.org/stable/modules/linear_model.html#logistic-regression\n",
            "  extra_warning_msg=_LOGISTIC_SOLVER_CONVERGENCE_MSG)\n"
          ],
          "name": "stderr"
        }
      ]
    },
    {
      "cell_type": "markdown",
      "metadata": {
        "id": "Z-wKIaZOTUx4",
        "colab_type": "text"
      },
      "source": [
        "KNN"
      ]
    },
    {
      "cell_type": "code",
      "metadata": {
        "id": "51yjDdLsTWMe",
        "colab_type": "code",
        "colab": {}
      },
      "source": [
        "KNN  = KNeighborsClassifier(n_neighbors=3)"
      ],
      "execution_count": 0,
      "outputs": []
    },
    {
      "cell_type": "code",
      "metadata": {
        "id": "LqtihLeBTaOZ",
        "colab_type": "code",
        "colab": {
          "base_uri": "https://localhost:8080/",
          "height": 118
        },
        "outputId": "3277cc2a-69fc-4347-e7c0-b00272623cc9"
      },
      "source": [
        "KNN.fit(X_train, y_train)\n",
        "score = KNN.score(X_test, y_test)\n",
        "print(\"%f %%\" % (score*100))\n",
        "res = KNN.predict(X_test)\n",
        "mt = confusion_matrix(y_test, res)\n",
        "print(\"Confusion Matrix\")\n",
        "print(mt)\n",
        "print(\"False positive rate : %f %%\" % ((mt[0][1] / float(sum(mt[0])))*100))\n",
        "print('False negative rate : %f %%' % ( (mt[1][0] / float(sum(mt[1]))*100)))"
      ],
      "execution_count": 14,
      "outputs": [
        {
          "output_type": "stream",
          "text": [
            "69.696970 %\n",
            "Confusion Matrix\n",
            "[[121  32]\n",
            " [ 38  40]]\n",
            "False positive rate : 20.915033 %\n",
            "False negative rate : 48.717949 %\n"
          ],
          "name": "stdout"
        }
      ]
    },
    {
      "cell_type": "markdown",
      "metadata": {
        "id": "vfosXTwHULgX",
        "colab_type": "text"
      },
      "source": [
        "Saving Model For Future Use"
      ]
    },
    {
      "cell_type": "code",
      "metadata": {
        "id": "2xAONZURUQQY",
        "colab_type": "code",
        "colab": {
          "base_uri": "https://localhost:8080/",
          "height": 50
        },
        "outputId": "d9a36f3f-06c1-4518-d4eb-0edccede84d2"
      },
      "source": [
        "print('Saving algorithm')\n",
        "joblib.dump(DecisionTree, 'classifier.pkl')"
      ],
      "execution_count": 15,
      "outputs": [
        {
          "output_type": "stream",
          "text": [
            "Saving algorithm\n"
          ],
          "name": "stdout"
        },
        {
          "output_type": "execute_result",
          "data": {
            "text/plain": [
              "['classifier.pkl']"
            ]
          },
          "metadata": {
            "tags": []
          },
          "execution_count": 15
        }
      ]
    },
    {
      "cell_type": "code",
      "metadata": {
        "id": "31CuuWUEUvzr",
        "colab_type": "code",
        "colab": {}
      },
      "source": [
        ""
      ],
      "execution_count": 0,
      "outputs": []
    }
  ]
}